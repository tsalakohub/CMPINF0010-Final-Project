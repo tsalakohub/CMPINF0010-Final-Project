{
 "cells": [
  {
   "cell_type": "markdown",
   "metadata": {},
   "source": [
    "# Education by Neighborhood in Pittsburgh"
   ]
  },
  {
   "cell_type": "markdown",
   "metadata": {},
   "source": [
    "## By Thomas Salako"
   ]
  },
  {
   "cell_type": "markdown",
   "metadata": {},
   "source": [
    "First off, what is an IEP and why is it important?\n",
    "\n",
    "An Individualized Education Plan (IEP) is a legal document created for students with disabilities in the United States that outlines their specific educational needs and goals, as well as the services and accommodations that will be provided to meet those needs.\n",
    "\n",
    "Gifted programs are designed to provide enrichment opportunities for students who have exceptional abilities in one or more areas. They provide opportunities for high-achieving students to receive specialized instruction and to engage in challenging and stimulating academic activities that help them to reach their full potential.\n",
    "\n",
    "Both programs recognize that students have different strengths and weaknesses and require different types of support and challenge in order to thrive.\n",
    "\n",
    "To calculate the neighborhood with best education, we took the gifted and IEP enrolement rate in each neighborhood in pittsburgh"
   ]
  },
  {
   "cell_type": "code",
   "execution_count": 47,
   "metadata": {},
   "outputs": [],
   "source": [
    "import pandas as pd\n",
    "import matplotlib.pyplot as plt\n",
    "import numpy as np\n",
    "%matplotlib inline\n"
   ]
  },
  {
   "cell_type": "markdown",
   "metadata": {},
   "source": [
    "Import the csv file"
   ]
  },
  {
   "cell_type": "code",
   "execution_count": 48,
   "metadata": {},
   "outputs": [],
   "source": [
    "df = pd.read_csv(\"PittsburghIEP.csv\")"
   ]
  },
  {
   "cell_type": "markdown",
   "metadata": {},
   "source": [
    "Calculating the combined gifted and IEP enrolement per neighborhood"
   ]
  },
  {
   "cell_type": "code",
   "execution_count": 52,
   "metadata": {},
   "outputs": [],
   "source": [
    "df['iep_or_gifted'] = (df['gifted'] + df['other_iep'])"
   ]
  },
  {
   "cell_type": "code",
   "execution_count": 53,
   "metadata": {},
   "outputs": [],
   "source": [
    "df['IEP rate'] = df['iep_or_gifted'] / df['total_enrollment_k_12'] "
   ]
  },
  {
   "cell_type": "code",
   "execution_count": 57,
   "metadata": {},
   "outputs": [
    {
     "data": {
      "text/html": [
       "<div>\n",
       "<style scoped>\n",
       "    .dataframe tbody tr th:only-of-type {\n",
       "        vertical-align: middle;\n",
       "    }\n",
       "\n",
       "    .dataframe tbody tr th {\n",
       "        vertical-align: top;\n",
       "    }\n",
       "\n",
       "    .dataframe thead th {\n",
       "        text-align: right;\n",
       "    }\n",
       "</style>\n",
       "<table border=\"1\" class=\"dataframe\">\n",
       "  <thead>\n",
       "    <tr style=\"text-align: right;\">\n",
       "      <th></th>\n",
       "      <th>neighborhoods</th>\n",
       "      <th>gifted</th>\n",
       "      <th>other_iep</th>\n",
       "      <th>iep_or_gifted</th>\n",
       "      <th>IEP rate</th>\n",
       "    </tr>\n",
       "  </thead>\n",
       "  <tbody>\n",
       "    <tr>\n",
       "      <th>33</th>\n",
       "      <td>Point Breeze</td>\n",
       "      <td>97</td>\n",
       "      <td>32</td>\n",
       "      <td>129</td>\n",
       "      <td>0.421569</td>\n",
       "    </tr>\n",
       "    <tr>\n",
       "      <th>41</th>\n",
       "      <td>Squirrel Hill South, Regent Square, Swisshelm ...</td>\n",
       "      <td>242</td>\n",
       "      <td>69</td>\n",
       "      <td>311</td>\n",
       "      <td>0.414115</td>\n",
       "    </tr>\n",
       "    <tr>\n",
       "      <th>40</th>\n",
       "      <td>Squirrel Hill North</td>\n",
       "      <td>108</td>\n",
       "      <td>20</td>\n",
       "      <td>128</td>\n",
       "      <td>0.390244</td>\n",
       "    </tr>\n",
       "    <tr>\n",
       "      <th>37</th>\n",
       "      <td>South Side Flats</td>\n",
       "      <td>15</td>\n",
       "      <td>24</td>\n",
       "      <td>39</td>\n",
       "      <td>0.357798</td>\n",
       "    </tr>\n",
       "    <tr>\n",
       "      <th>10</th>\n",
       "      <td>Central, Upper Lawrenceville</td>\n",
       "      <td>32</td>\n",
       "      <td>49</td>\n",
       "      <td>81</td>\n",
       "      <td>0.344681</td>\n",
       "    </tr>\n",
       "    <tr>\n",
       "      <th>38</th>\n",
       "      <td>South Side Slopes</td>\n",
       "      <td>13</td>\n",
       "      <td>48</td>\n",
       "      <td>61</td>\n",
       "      <td>0.344633</td>\n",
       "    </tr>\n",
       "    <tr>\n",
       "      <th>20</th>\n",
       "      <td>Hazelwood, Glen Hazel</td>\n",
       "      <td>30</td>\n",
       "      <td>185</td>\n",
       "      <td>215</td>\n",
       "      <td>0.338583</td>\n",
       "    </tr>\n",
       "    <tr>\n",
       "      <th>43</th>\n",
       "      <td>West End, Elliott</td>\n",
       "      <td>13</td>\n",
       "      <td>69</td>\n",
       "      <td>82</td>\n",
       "      <td>0.336066</td>\n",
       "    </tr>\n",
       "    <tr>\n",
       "      <th>21</th>\n",
       "      <td>Highland Park</td>\n",
       "      <td>83</td>\n",
       "      <td>45</td>\n",
       "      <td>128</td>\n",
       "      <td>0.335079</td>\n",
       "    </tr>\n",
       "    <tr>\n",
       "      <th>36</th>\n",
       "      <td>Sheraden</td>\n",
       "      <td>14</td>\n",
       "      <td>194</td>\n",
       "      <td>208</td>\n",
       "      <td>0.327044</td>\n",
       "    </tr>\n",
       "  </tbody>\n",
       "</table>\n",
       "</div>"
      ],
      "text/plain": [
       "                                        neighborhoods  gifted  other_iep  \\\n",
       "33                                       Point Breeze      97         32   \n",
       "41  Squirrel Hill South, Regent Square, Swisshelm ...     242         69   \n",
       "40                                Squirrel Hill North     108         20   \n",
       "37                                   South Side Flats      15         24   \n",
       "10                       Central, Upper Lawrenceville      32         49   \n",
       "38                                  South Side Slopes      13         48   \n",
       "20                              Hazelwood, Glen Hazel      30        185   \n",
       "43                                  West End, Elliott      13         69   \n",
       "21                                      Highland Park      83         45   \n",
       "36                                           Sheraden      14        194   \n",
       "\n",
       "    iep_or_gifted  IEP rate  \n",
       "33            129  0.421569  \n",
       "41            311  0.414115  \n",
       "40            128  0.390244  \n",
       "37             39  0.357798  \n",
       "10             81  0.344681  \n",
       "38             61  0.344633  \n",
       "20            215  0.338583  \n",
       "43             82  0.336066  \n",
       "21            128  0.335079  \n",
       "36            208  0.327044  "
      ]
     },
     "execution_count": 57,
     "metadata": {},
     "output_type": "execute_result"
    }
   ],
   "source": [
    "df.nlargest(10, 'IEP rate')"
   ]
  },
  {
   "cell_type": "markdown",
   "metadata": {},
   "source": [
    "# Conclusion\n",
    "\n",
    "The neighborhood with the best overall education is Point Breeze, with Squirrel Hill South and North trailing behind with similar gifted and IEP enrollment rates"
   ]
  },
  {
   "cell_type": "code",
   "execution_count": null,
   "metadata": {},
   "outputs": [],
   "source": []
  }
 ],
 "metadata": {
  "kernelspec": {
   "display_name": "Python 3",
   "language": "python",
   "name": "python3"
  },
  "language_info": {
   "codemirror_mode": {
    "name": "ipython",
    "version": 3
   },
   "file_extension": ".py",
   "mimetype": "text/x-python",
   "name": "python",
   "nbconvert_exporter": "python",
   "pygments_lexer": "ipython3",
   "version": "3.8.3"
  }
 },
 "nbformat": 4,
 "nbformat_minor": 4
}
